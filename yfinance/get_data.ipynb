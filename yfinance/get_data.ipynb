{
 "cells": [
  {
   "cell_type": "code",
   "execution_count": 2,
   "metadata": {},
   "outputs": [
    {
     "name": "stderr",
     "output_type": "stream",
     "text": [
      "[*********************100%***********************]  1 of 1 completed"
     ]
    },
    {
     "name": "stdout",
     "output_type": "stream",
     "text": [
      "Tesla stock data saved to AAPL.csv\n"
     ]
    },
    {
     "name": "stderr",
     "output_type": "stream",
     "text": [
      "\n"
     ]
    }
   ],
   "source": [
    "import yfinance as yf\n",
    "import pandas as pd\n",
    "\n",
    "# Define the ticker symbol for Tesla\n",
    "ticker = \"AAPL\"\n",
    "\n",
    "# Download historical data for Tesla\n",
    "start_date = \"2012-03-01\"\n",
    "end_date = \"2024-11-23\"  \n",
    "data = yf.download(ticker, start=start_date, end=end_date)\n",
    "\n",
    "# Reset index to have Date as a column\n",
    "data.reset_index(inplace=True)\n",
    "\n",
    "# Rename columns to match the requested format\n",
    "data.rename(columns={\n",
    "    \"Date\": \"Date\",\n",
    "    \"Open\": \"Open\",\n",
    "    \"High\": \"High\",\n",
    "    \"Low\": \"Low\",\n",
    "    \"Close\": \"Close\",\n",
    "    \"Adj Close\": \"Adj Close\",\n",
    "    \"Volume\": \"Volume\"\n",
    "}, inplace=True)\n",
    "\n",
    "# Save to CSV\n",
    "output_file = \"AAPL.csv\"\n",
    "data.to_csv(output_file, index=False)\n",
    "\n",
    "print(f\"Tesla stock data saved to {output_file}\")\n"
   ]
  }
 ],
 "metadata": {
  "kernelspec": {
   "display_name": "Python 3",
   "language": "python",
   "name": "python3"
  },
  "language_info": {
   "codemirror_mode": {
    "name": "ipython",
    "version": 3
   },
   "file_extension": ".py",
   "mimetype": "text/x-python",
   "name": "python",
   "nbconvert_exporter": "python",
   "pygments_lexer": "ipython3",
   "version": "3.10.12"
  }
 },
 "nbformat": 4,
 "nbformat_minor": 2
}
